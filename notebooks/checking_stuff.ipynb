{
 "cells": [
  {
   "cell_type": "code",
   "execution_count": 1,
   "id": "903cfed8-8d52-4562-a99c-56b6e64ab6d2",
   "metadata": {},
   "outputs": [
    {
     "name": "stdout",
     "output_type": "stream",
     "text": [
      "/app\n"
     ]
    }
   ],
   "source": [
    "cd /app"
   ]
  },
  {
   "cell_type": "code",
   "execution_count": 2,
   "id": "ea755470-9515-402f-9e5c-898ddec802c9",
   "metadata": {},
   "outputs": [],
   "source": [
    "from cybulde.data_processing.dataset_cleaners import SpellCorrectionDatasetCleaner\n",
    "from cybulde.utils.utils import SpellCorrectionModel"
   ]
  },
  {
   "cell_type": "code",
   "execution_count": 3,
   "id": "8a4b5215-638d-410a-b8f4-06e221478ffb",
   "metadata": {},
   "outputs": [],
   "source": [
    "spell_correction_model = SpellCorrectionModel()\n",
    "cleaner = SpellCorrectionDatasetCleaner(spell_correction_model)"
   ]
  },
  {
   "cell_type": "code",
   "execution_count": 6,
   "id": "1ab4e1e3-eb19-4a44-b185-8a77407aa513",
   "metadata": {},
   "outputs": [],
   "source": [
    "text = \"in te dhird qarter oflast jear he hadlearned ofca sekretplan\""
   ]
  },
  {
   "cell_type": "code",
   "execution_count": 7,
   "id": "410acc87-44e3-400a-a698-dbccf3d9b84a",
   "metadata": {},
   "outputs": [
    {
     "data": {
      "text/plain": [
       "'in the third quarter of last year he had learned of a secret plan'"
      ]
     },
     "execution_count": 7,
     "metadata": {},
     "output_type": "execute_result"
    }
   ],
   "source": [
    "cleaner(text)"
   ]
  },
  {
   "cell_type": "code",
   "execution_count": null,
   "id": "e98992ba-9e65-4435-96a9-cb240e73f7c4",
   "metadata": {},
   "outputs": [],
   "source": []
  }
 ],
 "metadata": {
  "kernelspec": {
   "display_name": "Python 3 (ipykernel)",
   "language": "python",
   "name": "python3"
  },
  "language_info": {
   "codemirror_mode": {
    "name": "ipython",
    "version": 3
   },
   "file_extension": ".py",
   "mimetype": "text/x-python",
   "name": "python",
   "nbconvert_exporter": "python",
   "pygments_lexer": "ipython3",
   "version": "3.9.10"
  }
 },
 "nbformat": 4,
 "nbformat_minor": 5
}
